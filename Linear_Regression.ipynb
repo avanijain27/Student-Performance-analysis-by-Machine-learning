{
 "cells": [
  {
   "cell_type": "code",
   "execution_count": 4,
   "metadata": {},
   "outputs": [],
   "source": [
    "import pandas as pd\n",
    "from sklearn.model_selection import train_test_split\n",
    "from sklearn.metrics import confusion_matrix\n",
    "from sklearn.svm import SVR\n",
    "import matplotlib.pyplot as plt\n",
    "import numpy as np\n",
    "import seaborn as sb\n",
    "from sklearn import metrics"
   ]
  },
  {
   "cell_type": "code",
   "execution_count": 2,
   "metadata": {},
   "outputs": [
    {
     "data": {
      "text/plain": [
       "\"import os\\nos.getcwd()\\nos.chdir('/Users/avanijain/Desktop/Machine_Learning/Ml_project/student-mat.csv')\""
      ]
     },
     "execution_count": 2,
     "metadata": {},
     "output_type": "execute_result"
    }
   ],
   "source": [
    "'''import os\n",
    "os.getcwd()\n",
    "os.chdir('/Users/avanijain/Desktop/Machine_Learning/Ml_project/student-mat.csv')'''"
   ]
  },
  {
   "cell_type": "code",
   "execution_count": 7,
   "metadata": {},
   "outputs": [
    {
     "data": {
      "text/html": [
       "<div>\n",
       "<style scoped>\n",
       "    .dataframe tbody tr th:only-of-type {\n",
       "        vertical-align: middle;\n",
       "    }\n",
       "\n",
       "    .dataframe tbody tr th {\n",
       "        vertical-align: top;\n",
       "    }\n",
       "\n",
       "    .dataframe thead th {\n",
       "        text-align: right;\n",
       "    }\n",
       "</style>\n",
       "<table border=\"1\" class=\"dataframe\">\n",
       "  <thead>\n",
       "    <tr style=\"text-align: right;\">\n",
       "      <th></th>\n",
       "      <th>school</th>\n",
       "      <th>sex</th>\n",
       "      <th>age</th>\n",
       "      <th>address</th>\n",
       "      <th>famsize</th>\n",
       "      <th>Pstatus</th>\n",
       "      <th>Medu</th>\n",
       "      <th>Fedu</th>\n",
       "      <th>Mjob</th>\n",
       "      <th>Fjob</th>\n",
       "      <th>...</th>\n",
       "      <th>famrel</th>\n",
       "      <th>freetime</th>\n",
       "      <th>goout</th>\n",
       "      <th>Dalc</th>\n",
       "      <th>Walc</th>\n",
       "      <th>health</th>\n",
       "      <th>absences</th>\n",
       "      <th>G1</th>\n",
       "      <th>G2</th>\n",
       "      <th>G3</th>\n",
       "    </tr>\n",
       "  </thead>\n",
       "  <tbody>\n",
       "    <tr>\n",
       "      <td>0</td>\n",
       "      <td>GP</td>\n",
       "      <td>F</td>\n",
       "      <td>18</td>\n",
       "      <td>U</td>\n",
       "      <td>GT3</td>\n",
       "      <td>A</td>\n",
       "      <td>4</td>\n",
       "      <td>4</td>\n",
       "      <td>at_home</td>\n",
       "      <td>teacher</td>\n",
       "      <td>...</td>\n",
       "      <td>4</td>\n",
       "      <td>3</td>\n",
       "      <td>4</td>\n",
       "      <td>1</td>\n",
       "      <td>1</td>\n",
       "      <td>3</td>\n",
       "      <td>6</td>\n",
       "      <td>5</td>\n",
       "      <td>6</td>\n",
       "      <td>6</td>\n",
       "    </tr>\n",
       "    <tr>\n",
       "      <td>1</td>\n",
       "      <td>GP</td>\n",
       "      <td>F</td>\n",
       "      <td>17</td>\n",
       "      <td>U</td>\n",
       "      <td>GT3</td>\n",
       "      <td>T</td>\n",
       "      <td>1</td>\n",
       "      <td>1</td>\n",
       "      <td>at_home</td>\n",
       "      <td>other</td>\n",
       "      <td>...</td>\n",
       "      <td>5</td>\n",
       "      <td>3</td>\n",
       "      <td>3</td>\n",
       "      <td>1</td>\n",
       "      <td>1</td>\n",
       "      <td>3</td>\n",
       "      <td>4</td>\n",
       "      <td>5</td>\n",
       "      <td>5</td>\n",
       "      <td>6</td>\n",
       "    </tr>\n",
       "    <tr>\n",
       "      <td>2</td>\n",
       "      <td>GP</td>\n",
       "      <td>F</td>\n",
       "      <td>15</td>\n",
       "      <td>U</td>\n",
       "      <td>LE3</td>\n",
       "      <td>T</td>\n",
       "      <td>1</td>\n",
       "      <td>1</td>\n",
       "      <td>at_home</td>\n",
       "      <td>other</td>\n",
       "      <td>...</td>\n",
       "      <td>4</td>\n",
       "      <td>3</td>\n",
       "      <td>2</td>\n",
       "      <td>2</td>\n",
       "      <td>3</td>\n",
       "      <td>3</td>\n",
       "      <td>10</td>\n",
       "      <td>7</td>\n",
       "      <td>8</td>\n",
       "      <td>10</td>\n",
       "    </tr>\n",
       "    <tr>\n",
       "      <td>3</td>\n",
       "      <td>GP</td>\n",
       "      <td>F</td>\n",
       "      <td>15</td>\n",
       "      <td>U</td>\n",
       "      <td>GT3</td>\n",
       "      <td>T</td>\n",
       "      <td>4</td>\n",
       "      <td>2</td>\n",
       "      <td>health</td>\n",
       "      <td>services</td>\n",
       "      <td>...</td>\n",
       "      <td>3</td>\n",
       "      <td>2</td>\n",
       "      <td>2</td>\n",
       "      <td>1</td>\n",
       "      <td>1</td>\n",
       "      <td>5</td>\n",
       "      <td>2</td>\n",
       "      <td>15</td>\n",
       "      <td>14</td>\n",
       "      <td>15</td>\n",
       "    </tr>\n",
       "    <tr>\n",
       "      <td>4</td>\n",
       "      <td>GP</td>\n",
       "      <td>F</td>\n",
       "      <td>16</td>\n",
       "      <td>U</td>\n",
       "      <td>GT3</td>\n",
       "      <td>T</td>\n",
       "      <td>3</td>\n",
       "      <td>3</td>\n",
       "      <td>other</td>\n",
       "      <td>other</td>\n",
       "      <td>...</td>\n",
       "      <td>4</td>\n",
       "      <td>3</td>\n",
       "      <td>2</td>\n",
       "      <td>1</td>\n",
       "      <td>2</td>\n",
       "      <td>5</td>\n",
       "      <td>4</td>\n",
       "      <td>6</td>\n",
       "      <td>10</td>\n",
       "      <td>10</td>\n",
       "    </tr>\n",
       "  </tbody>\n",
       "</table>\n",
       "<p>5 rows × 33 columns</p>\n",
       "</div>"
      ],
      "text/plain": [
       "  school sex  age address famsize Pstatus  Medu  Fedu     Mjob      Fjob  ...  \\\n",
       "0     GP   F   18       U     GT3       A     4     4  at_home   teacher  ...   \n",
       "1     GP   F   17       U     GT3       T     1     1  at_home     other  ...   \n",
       "2     GP   F   15       U     LE3       T     1     1  at_home     other  ...   \n",
       "3     GP   F   15       U     GT3       T     4     2   health  services  ...   \n",
       "4     GP   F   16       U     GT3       T     3     3    other     other  ...   \n",
       "\n",
       "  famrel freetime  goout  Dalc  Walc health absences  G1  G2  G3  \n",
       "0      4        3      4     1     1      3        6   5   6   6  \n",
       "1      5        3      3     1     1      3        4   5   5   6  \n",
       "2      4        3      2     2     3      3       10   7   8  10  \n",
       "3      3        2      2     1     1      5        2  15  14  15  \n",
       "4      4        3      2     1     2      5        4   6  10  10  \n",
       "\n",
       "[5 rows x 33 columns]"
      ]
     },
     "execution_count": 7,
     "metadata": {},
     "output_type": "execute_result"
    }
   ],
   "source": [
    "df = pd.read_csv('/Users/avanijain/Desktop/Machine_Learning/Ml_project/student-mat.csv', sep=';')\n",
    "df.head()"
   ]
  },
  {
   "cell_type": "code",
   "execution_count": 4,
   "metadata": {},
   "outputs": [
    {
     "data": {
      "text/plain": [
       "<matplotlib.axes._subplots.AxesSubplot at 0x1a201fa950>"
      ]
     },
     "execution_count": 4,
     "metadata": {},
     "output_type": "execute_result"
    },
    {
     "data": {
      "image/png": "[encoded data removed]",
      "text/plain": [
       "<Figure size 720x576 with 1 Axes>"
      ]
     },
     "metadata": {
      "needs_background": "light"
     },
     "output_type": "display_data"
    }
   ],
   "source": [
    "plt.figure(figsize=(10,8))\n",
    "sb.countplot(df.G3)"
   ]
  },
  {
   "cell_type": "code",
   "execution_count": 5,
   "metadata": {},
   "outputs": [
    {
     "data": {
      "text/plain": [
       "school        False\n",
       "sex           False\n",
       "age           False\n",
       "address       False\n",
       "famsize       False\n",
       "Pstatus       False\n",
       "Medu          False\n",
       "Fedu          False\n",
       "Mjob          False\n",
       "Fjob          False\n",
       "reason        False\n",
       "guardian      False\n",
       "traveltime    False\n",
       "studytime     False\n",
       "failures      False\n",
       "schoolsup     False\n",
       "famsup        False\n",
       "paid          False\n",
       "activities    False\n",
       "nursery       False\n",
       "higher        False\n",
       "internet      False\n",
       "romantic      False\n",
       "famrel        False\n",
       "freetime      False\n",
       "goout         False\n",
       "Dalc          False\n",
       "Walc          False\n",
       "health        False\n",
       "absences      False\n",
       "G1            False\n",
       "G2            False\n",
       "G3            False\n",
       "dtype: bool"
      ]
     },
     "execution_count": 5,
     "metadata": {},
     "output_type": "execute_result"
    }
   ],
   "source": [
    "#Check the Null values\n",
    "df.isnull().any()"
   ]
  },
  {
   "cell_type": "code",
   "execution_count": 6,
   "metadata": {},
   "outputs": [],
   "source": [
    "#Categorical Variable\n",
    "dfConverted = pd.get_dummies(df)"
   ]
  },
  {
   "cell_type": "code",
   "execution_count": 7,
   "metadata": {},
   "outputs": [],
   "source": [
    "#avoiding the dummy variable trap\n",
    "Z= dfConverted.drop('romantic_yes', axis = 1)\n"
   ]
  },
  {
   "cell_type": "code",
   "execution_count": 8,
   "metadata": {},
   "outputs": [],
   "source": [
    "X = Z.drop('G3', axis = 1)\n",
    "y = Z[['G3']]\n"
   ]
  },
  {
   "cell_type": "code",
   "execution_count": 9,
   "metadata": {},
   "outputs": [],
   "source": [
    "X_train, X_test, y_train, y_test = train_test_split(X, y, test_size=0.2, random_state=0)"
   ]
  },
  {
   "cell_type": "code",
   "execution_count": 10,
   "metadata": {},
   "outputs": [
    {
     "data": {
      "text/plain": [
       "LinearRegression(copy_X=True, fit_intercept=True, n_jobs=None, normalize=False)"
      ]
     },
     "execution_count": 10,
     "metadata": {},
     "output_type": "execute_result"
    }
   ],
   "source": [
    "#Fitting linear regression \n",
    "from sklearn.linear_model import LinearRegression\n",
    "regressor = LinearRegression()\n",
    "regressor.fit(X_train,y_train)"
   ]
  },
  {
   "cell_type": "code",
   "execution_count": 11,
   "metadata": {},
   "outputs": [
    {
     "data": {
      "text/plain": [
       "array([[14.18887329],\n",
       "       [10.73102951],\n",
       "       [ 9.39627457],\n",
       "       [15.54544449],\n",
       "       [16.56179428],\n",
       "       [11.73552704],\n",
       "       [13.27112961],\n",
       "       [10.30544281],\n",
       "       [ 8.14863586],\n",
       "       [13.58937836],\n",
       "       [ 7.11230087],\n",
       "       [15.79668808],\n",
       "       [11.32617188],\n",
       "       [ 8.95713425],\n",
       "       [15.09466934],\n",
       "       [14.8895607 ],\n",
       "       [12.90607071],\n",
       "       [ 8.03848648],\n",
       "       [ 9.05532455],\n",
       "       [14.49982071],\n",
       "       [ 6.36320877],\n",
       "       [ 2.55815887],\n",
       "       [ 5.94802094],\n",
       "       [14.67378616],\n",
       "       [11.55204773],\n",
       "       [15.53261185],\n",
       "       [ 9.24933243],\n",
       "       [20.49869919],\n",
       "       [-0.64826965],\n",
       "       [13.24203873],\n",
       "       [-1.18688583],\n",
       "       [ 6.42219543],\n",
       "       [ 7.5165596 ],\n",
       "       [ 5.34906769],\n",
       "       [12.64536667],\n",
       "       [10.64516068],\n",
       "       [13.4645195 ],\n",
       "       [18.57098007],\n",
       "       [ 8.63157654],\n",
       "       [11.5162468 ],\n",
       "       [ 4.21286011],\n",
       "       [19.05892563],\n",
       "       [ 7.08346558],\n",
       "       [ 7.95284653],\n",
       "       [10.21324539],\n",
       "       [-3.26622772],\n",
       "       [11.72859573],\n",
       "       [ 4.95414734],\n",
       "       [11.66661453],\n",
       "       [ 6.67064667],\n",
       "       [ 9.09848404],\n",
       "       [17.88196564],\n",
       "       [12.86592102],\n",
       "       [ 7.62640381],\n",
       "       [12.40071106],\n",
       "       [ 9.13906097],\n",
       "       [ 9.17279053],\n",
       "       [11.81527328],\n",
       "       [15.6999054 ],\n",
       "       [13.38146591],\n",
       "       [13.12733078],\n",
       "       [13.28306961],\n",
       "       [13.47993851],\n",
       "       [16.17311096],\n",
       "       [ 7.47876358],\n",
       "       [16.37852859],\n",
       "       [18.53767776],\n",
       "       [11.08489609],\n",
       "       [ 4.48815918],\n",
       "       [ 9.17760086],\n",
       "       [ 9.6538887 ],\n",
       "       [13.67401123],\n",
       "       [ 7.83244705],\n",
       "       [ 3.29985046],\n",
       "       [12.76649094],\n",
       "       [ 8.86902618],\n",
       "       [10.7306633 ],\n",
       "       [17.70585251],\n",
       "       [ 5.04137039]])"
      ]
     },
     "execution_count": 11,
     "metadata": {},
     "output_type": "execute_result"
    }
   ],
   "source": [
    "#predicting the test set results\n",
    "ypred=regressor.predict(X_test)\n",
    "ypred"
   ]
  },
  {
   "cell_type": "code",
   "execution_count": 12,
   "metadata": {},
   "outputs": [],
   "source": [
    "#Building the Optimal model model using Backward Elimination\n",
    "X=np.append(arr= np.ones((395,1)).astype(int),values=X,axis=1)\n",
    "import statsmodels.api as sm\n",
    "def backwardElimination(x, sl):\n",
    "    numVars = len(x[0])\n",
    "    for i in range(0, numVars):\n",
    "        regressor_OLS = sm.OLS(y, x).fit()\n",
    "        maxVar = max(regressor_OLS.pvalues)\n",
    "        if maxVar > sl:\n",
    "            for j in range(0, numVars - i):\n",
    "                if (regressor_OLS.pvalues[j]== maxVar):\n",
    "                    x = np.delete(x, j, 1)\n",
    "    regressor_OLS.summary()\n",
    "    return x\n",
    " \n",
    "SL = 0.05\n",
    "X_opt=X[:, [0,1,2,3,4,5,6,7,8,9,10,11,12,13,14,15,16,17,18,19,20,21,22,23,24,25,26,27,28,29,30,31,32,33,34,35,36,37,38,39,40,41,42,43,44,45,46,47,48,49,50,51,52,53,54,55,56,57]]\n",
    "X_Modeled = backwardElimination(X_opt, SL)"
   ]
  },
  {
   "cell_type": "code",
   "execution_count": 13,
   "metadata": {},
   "outputs": [],
   "source": [
    "X_train_model, X_test_model, y_train_model, y_test_model = train_test_split(X_Modeled, y, test_size=0.2, random_state=0)\n"
   ]
  },
  {
   "cell_type": "code",
   "execution_count": 14,
   "metadata": {},
   "outputs": [
    {
     "data": {
      "text/plain": [
       "LinearRegression(copy_X=True, fit_intercept=True, n_jobs=None, normalize=False)"
      ]
     },
     "execution_count": 14,
     "metadata": {},
     "output_type": "execute_result"
    }
   ],
   "source": [
    "from sklearn.linear_model import LinearRegression\n",
    "regressor = LinearRegression()\n",
    "regressor.fit(X_train_model,y_train_model)"
   ]
  },
  {
   "cell_type": "code",
   "execution_count": 15,
   "metadata": {},
   "outputs": [
    {
     "data": {
      "text/plain": [
       "array([[13.9810386 ],\n",
       "       [10.43289573],\n",
       "       [ 9.45361707],\n",
       "       [15.59008929],\n",
       "       [16.23585396],\n",
       "       [11.98224875],\n",
       "       [12.55359898],\n",
       "       [10.42121378],\n",
       "       [ 7.62375631],\n",
       "       [14.73539962],\n",
       "       [ 6.9591673 ],\n",
       "       [14.66253403],\n",
       "       [11.14127458],\n",
       "       [ 8.19231265],\n",
       "       [14.87054526],\n",
       "       [14.38294297],\n",
       "       [12.7391936 ],\n",
       "       [ 8.95795715],\n",
       "       [ 8.86292572],\n",
       "       [15.01642412],\n",
       "       [ 6.38641736],\n",
       "       [ 3.14228344],\n",
       "       [ 6.25178848],\n",
       "       [15.01694089],\n",
       "       [11.5854855 ],\n",
       "       [16.02270306],\n",
       "       [ 9.43427596],\n",
       "       [20.01605687],\n",
       "       [-0.05123966],\n",
       "       [13.29917554],\n",
       "       [-0.9768112 ],\n",
       "       [ 7.21519281],\n",
       "       [ 7.06879718],\n",
       "       [ 5.85383414],\n",
       "       [13.12726415],\n",
       "       [10.02214112],\n",
       "       [13.40932219],\n",
       "       [18.74450372],\n",
       "       [ 8.11646622],\n",
       "       [11.79820443],\n",
       "       [ 4.24174864],\n",
       "       [18.28405925],\n",
       "       [ 7.29623287],\n",
       "       [ 8.10521624],\n",
       "       [10.15433675],\n",
       "       [-1.73312097],\n",
       "       [12.23930779],\n",
       "       [ 3.37477545],\n",
       "       [12.00673098],\n",
       "       [ 7.02041528],\n",
       "       [ 9.48460662],\n",
       "       [18.58904922],\n",
       "       [11.51964545],\n",
       "       [ 7.59209818],\n",
       "       [12.16437659],\n",
       "       [ 8.30194253],\n",
       "       [ 9.20461565],\n",
       "       [12.04154796],\n",
       "       [14.90679424],\n",
       "       [14.15139969],\n",
       "       [13.02520863],\n",
       "       [13.35461504],\n",
       "       [14.23706411],\n",
       "       [15.45546041],\n",
       "       [ 8.07970047],\n",
       "       [15.921046  ],\n",
       "       [18.21721918],\n",
       "       [11.35901755],\n",
       "       [ 4.21726641],\n",
       "       [ 8.95373126],\n",
       "       [ 8.72689713],\n",
       "       [14.16316644],\n",
       "       [ 7.02281501],\n",
       "       [ 2.89802468],\n",
       "       [12.19843301],\n",
       "       [ 8.01860308],\n",
       "       [10.83583363],\n",
       "       [17.56443042],\n",
       "       [ 6.15392534]])"
      ]
     },
     "execution_count": 15,
     "metadata": {},
     "output_type": "execute_result"
    }
   ],
   "source": [
    "#predicting the test set results\n",
    "ypred_model=regressor.predict(X_test_model)\n",
    "ypred_model"
   ]
  },
  {
   "cell_type": "code",
   "execution_count": 16,
   "metadata": {},
   "outputs": [
    {
     "data": {
      "text/plain": [
       "[(array([18,  4,  6,  5,  6]),\n",
       "  array([-0.25602551,  0.24425876,  0.05507332,  0.10962988,  0.99965331]))]"
      ]
     },
     "execution_count": 16,
     "metadata": {},
     "output_type": "execute_result"
    }
   ],
   "source": [
    "## pair the feature with the coefficients\n",
    "list(zip(X_Modeled, regressor.coef_))"
   ]
  },
  {
   "cell_type": "code",
   "execution_count": 17,
   "metadata": {},
   "outputs": [
    {
     "data": {
      "text/plain": [
       "0.9730797818073089"
      ]
     },
     "execution_count": 17,
     "metadata": {},
     "output_type": "execute_result"
    }
   ],
   "source": [
    "#r-SQUARED\n",
    "regressor_OLS=sm.OLS(endog=y, exog=X_Modeled).fit()\n",
    "regressor_OLS.summary()\n",
    "regressor_OLS.rsquared"
   ]
  },
  {
   "cell_type": "code",
   "execution_count": 18,
   "metadata": {},
   "outputs": [
    {
     "name": "stdout",
     "output_type": "stream",
     "text": [
      "1.6103288191783278\n",
      "5.845178266970442\n",
      "2.4176803483857086\n"
     ]
    }
   ],
   "source": [
    "#Model Evaluation Metrics for Regression\n",
    "# calculate MAE, MSE, RMSE with all the variables\n",
    "print(metrics.mean_absolute_error(y_test, ypred))\n",
    "print(metrics.mean_squared_error(y_test, ypred))\n",
    "print(np.sqrt(metrics.mean_squared_error(y_test, ypred)))"
   ]
  },
  {
   "cell_type": "code",
   "execution_count": 19,
   "metadata": {},
   "outputs": [
    {
     "name": "stdout",
     "output_type": "stream",
     "text": [
      "1.3934764142640703\n",
      "5.291720423625023\n",
      "2.300373974732157\n"
     ]
    }
   ],
   "source": [
    "#Model Evaluation Metrics for Regression\n",
    "# calculate MAE, MSE, RMSE with the best variables\n",
    "print(metrics.mean_absolute_error(y_test, ypred_model))\n",
    "print(metrics.mean_squared_error(y_test, ypred_model))\n",
    "print(np.sqrt(metrics.mean_squared_error(y_test, ypred_model)))"
   ]
  }
 ],
 "metadata": {
  "kernelspec": {
   "display_name": "Python 3",
   "language": "python",
   "name": "python3"
  },
  "language_info": {
   "codemirror_mode": {
    "name": "ipython",
    "version": 3
   },
   "file_extension": ".py",
   "mimetype": "text/x-python",
   "name": "python",
   "nbconvert_exporter": "python",
   "pygments_lexer": "ipython3",
   "version": "3.7.4"
  }
 },
 "nbformat": 4,
 "nbformat_minor": 2
}
